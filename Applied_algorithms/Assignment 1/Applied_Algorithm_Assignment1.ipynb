{
  "metadata": {
    "language_info": {
      "codemirror_mode": {
        "name": "python",
        "version": 3
      },
      "file_extension": ".py",
      "mimetype": "text/x-python",
      "name": "python",
      "nbconvert_exporter": "python",
      "pygments_lexer": "ipython3",
      "version": "3.8"
    },
    "kernelspec": {
      "name": "python",
      "display_name": "Python (Pyodide)",
      "language": "python"
    }
  },
  "nbformat_minor": 4,
  "nbformat": 4,
  "cells": [
    {
      "cell_type": "code",
      "source": "# Problem 1\n\ndef count_prime_letters(n):\n    letters = { 2: \"Two\", 3: \"Three\", 5: \"Five\", 7: \"Seven\", 11: \"Eleven\", 13: \"Thirteen\", 17: \"Seventeen\",\n               19: \"Nineteen\", 23: \"TwentyThree\", 29: \"TwentyNine\", 31: \"ThirtyOne\", 37: \"ThirtySeven\",\n               41: \"FortyOne\", 43: \"FortyThree\", 47: \"FortySeven\", 53: \"FiftyThree\", 59: \"FiftyNine\", 61: \"SixtyOne\",\n               67: \"SixtySeven\", 71: \"SeventyOne\", 73: \"SeventyThree\", 79: \"SeventyNine\", 83: \"EightyThree\", 89: \"EightyNine\",\n               97: \"NinetySeven\"}\n    sum = 0\n    for num in range(1, n + 1):\n        if num > 1:\n            for i in range(2, num):\n                if num % i == 0:\n                    break\n            else:\n                for key, value in letters.items():\n                    if num == key:\n                        sum = sum + len(value)\n\n    return sum\n\ncount_prime_letters(100)",
      "metadata": {
        "trusted": true
      },
      "execution_count": 1,
      "outputs": [
        {
          "execution_count": 1,
          "output_type": "execute_result",
          "data": {
            "text/plain": "219"
          },
          "metadata": {}
        }
      ]
    },
    {
      "cell_type": "code",
      "source": "# Problem 2\n\ndef get_square_sum (M, N):\n    sum = 0\n    for i in range(1, N + 1):\n        square = i * i\n        if square <= N:\n            sum = sum + square\n        elif M > 1:\n            for j in range(1, M):\n                N = sum\n                sum = sum + square\n                M = M - 1\n                break\n        else:\n            return sum\n\nget_square_sum(3, 30)",
      "metadata": {
        "trusted": true
      },
      "execution_count": 4,
      "outputs": [
        {
          "execution_count": 4,
          "output_type": "execute_result",
          "data": {
            "text/plain": "506"
          },
          "metadata": {}
        }
      ]
    },
    {
      "cell_type": "code",
      "source": "# Problem 3\n\ndef check_bit(N):\n    result = []\n    l1 = list(bin(N))\n    l2 = l1[2:]\n    \n    for i in range(0, len(l2)):\n        if l2[i] == '1':\n            result.append(i)\n    if len(result) > 1:\n        x = result[1]\n        return x + 1\n    else:\n        return -1\n\n\ncheck_bit(257)",
      "metadata": {
        "trusted": true
      },
      "execution_count": 21,
      "outputs": [
        {
          "execution_count": 21,
          "output_type": "execute_result",
          "data": {
            "text/plain": "9"
          },
          "metadata": {}
        }
      ]
    },
    {
      "cell_type": "code",
      "source": "# Problem 4\n\ndef find_multiple(n):\n    a = 7*11*13\n    a_sq = pow(a,2)\n    n_sq = pow(n,2)\n    a_n_sq = pow((a+n),2)\n    r = ((a_n_sq) - (a_sq) - (n_sq))/2\n    return (int(r))\n\nfind_multiple(101)\n\n# I have used (a+b)^2 = a^ + 2xaxb + b^2 formula to calculate the result. Here in particular I wanted to calculate the multiplication of all the integers i.e 7x11x13xn.",
      "metadata": {
        "trusted": true
      },
      "execution_count": 16,
      "outputs": [
        {
          "execution_count": 16,
          "output_type": "execute_result",
          "data": {
            "text/plain": "101101"
          },
          "metadata": {}
        }
      ]
    },
    {
      "cell_type": "code",
      "source": "# Problem 5\n\ndef find_the_winner(matches_won, matches_drawn, goals_scored):\n    rmw = []\n    rmd = []\n    x = max(matches_won)\n    for i in range(0, len(matches_won)):\n        if x == matches_won[i]:\n            rmw.append(i)\n            rmd.append(goals_scored[i])\n\n    y = max(rmd)\n    for i in range(0, len(rmd)):\n        if y == rmd[i]:\n            return rmw[i]\n\n\n\nfind_the_winner([3, 1, 3, 0], [0, 1, 0, 1], [6, 4, 9, 2])",
      "metadata": {
        "trusted": true
      },
      "execution_count": 17,
      "outputs": [
        {
          "execution_count": 17,
          "output_type": "execute_result",
          "data": {
            "text/plain": "2"
          },
          "metadata": {}
        }
      ]
    },
    {
      "cell_type": "code",
      "source": "# Problem 6\n\ndef decoded_String(S):\n     dict_cipher = dict.fromkeys(set(S), 0)\n     return_cipher = \"\"\n\n     for char in S:\n          dict_cipher[char] = dict_cipher[char] + 1\n          if dict_cipher[char] % 3 == 0:  # to remove occurance of third character from string\n               continue\n          else:\n               return_cipher = return_cipher + char\n\n     return return_cipher\n\n\ndecoded_String(\"abzzaaaa\")",
      "metadata": {
        "trusted": true
      },
      "execution_count": 18,
      "outputs": [
        {
          "execution_count": 18,
          "output_type": "execute_result",
          "data": {
            "text/plain": "'abzzaaa'"
          },
          "metadata": {}
        }
      ]
    }
  ]
}