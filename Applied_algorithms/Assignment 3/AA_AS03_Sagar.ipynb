{
 "cells": [
  {
   "cell_type": "code",
   "execution_count": 9,
   "id": "daa73711",
   "metadata": {},
   "outputs": [
    {
     "name": "stdout",
     "output_type": "stream",
     "text": [
      "[1, 3, 4]\n",
      "[1, 3, 3]\n"
     ]
    }
   ],
   "source": [
    "# Problem 1\n",
    "\n",
    "from collections import Counter\n",
    "\n",
    "def count_linux_commands(commands):\n",
    "    count_list = []\n",
    "    b = [] \n",
    "    temp_list = []\n",
    "    commandlist = []\n",
    "    result = [0, 0, 0]\n",
    "\n",
    "    for i in range(0,len(commands)):\n",
    "        if \"!\" in commands[i]:\n",
    "            count_list.append(commands[i])\n",
    "        else:\n",
    "            b.append(commands[i])\n",
    "\n",
    "    for i in range(0,len(count_list)):\n",
    "        if \"!\" in count_list[i]:\n",
    "            temp_list.append(count_list[i].replace(\"!\",\"\"))\n",
    "            \n",
    "    count_list = \"\".join(count_list) \n",
    "    count_list = list(count_list.replace(\"!\",\"\"))\n",
    "    d = list(map(int, temp_list))\n",
    "    b = b+d \n",
    "\n",
    "    for command in b:\n",
    "        if type(command) == int and type(b[command-1]) == int:\n",
    "            command = b[command-1]\n",
    "            if(type(command) == int and type(b[command-1]) == int):\n",
    "                command = b[command-1]\n",
    "                commandlist.append(b[command-1])\n",
    "            else:\n",
    "                commandlist.append(b[command-1])\n",
    "        elif type(command) == int:\n",
    "            commandlist.append(b[command-1])\n",
    "        else: \n",
    "            commandlist.append(command)\n",
    "\n",
    "    for command in commandlist:\n",
    "        if command == \"cp\":\n",
    "            result[0] += 1\n",
    "        elif command == \"ls\":\n",
    "            result[1] += 1\n",
    "        else:\n",
    "            result[2] += 1\n",
    "\n",
    "    return result\n",
    "\n",
    "commands = [\"ls\", \"cp\", \"mv\", \"mv\", \"mv\", \"!1\", \"!3\", \"!6\"]\n",
    "print(count_linux_commands(commands))\n",
    "commands = [\"ls\", \"cp\", \"mv\", \"!1\", \"!3\", \"!6\", \"!1\"]\n",
    "print(count_linux_commands(commands))"
   ]
  },
  {
   "cell_type": "code",
   "execution_count": 8,
   "id": "c0277402",
   "metadata": {},
   "outputs": [
    {
     "name": "stdout",
     "output_type": "stream",
     "text": [
      "apple\n",
      "orange\n",
      "apple\n"
     ]
    }
   ],
   "source": [
    "# Problem 4\n",
    "\n",
    "def game_winner(fruits):\n",
    "  fruits = [*fruits]\n",
    "  orange = \"O\"\n",
    "  apple = \"A\"\n",
    "\n",
    "  for i in range(0, len(fruits)):\n",
    "    if i < len(fruits):\n",
    "        if fruits[i] == 'A':\n",
    "            if orange in fruits:\n",
    "                index = fruits.index('O')\n",
    "                fruits.remove(fruits[index])\n",
    "            else:\n",
    "                return 'A'\n",
    "        else:\n",
    "            if fruits[i] == 'O':\n",
    "                if apple in fruits:\n",
    "                    index = fruits.index('A')\n",
    "                    fruits.remove(fruits[index])\n",
    "                else:\n",
    "                    return 'O'\n",
    "  else:\n",
    "    frequency_of_fruits = {}\n",
    "    for i in fruits:\n",
    "        if i in frequency_of_fruits:\n",
    "            frequency_of_fruits[i] += 1\n",
    "        else:\n",
    "            frequency_of_fruits[i] = 1\n",
    "    winner = max(frequency_of_fruits, key = frequency_of_fruits.get)\n",
    "    if winner == \"A\":\n",
    "        return \"apple\"\n",
    "    else:\n",
    "        return \"orange\"\n",
    "  \n",
    "\n",
    "\n",
    "fruits = \"AAOO\"\n",
    "print(game_winner(fruits))\n",
    "fruits = \"AOO\"\n",
    "print(game_winner(fruits))\n",
    "fruits = \"AOAOAOAOAOAOAAAAOOOO\"\n",
    "print(game_winner(fruits))\n"
   ]
  }
 ],
 "metadata": {
  "kernelspec": {
   "display_name": "Python 3 (ipykernel)",
   "language": "python",
   "name": "python3"
  },
  "language_info": {
   "codemirror_mode": {
    "name": "ipython",
    "version": 3
   },
   "file_extension": ".py",
   "mimetype": "text/x-python",
   "name": "python",
   "nbconvert_exporter": "python",
   "pygments_lexer": "ipython3",
   "version": "3.9.12"
  }
 },
 "nbformat": 4,
 "nbformat_minor": 5
}
