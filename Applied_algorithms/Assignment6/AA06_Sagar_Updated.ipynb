{
  "metadata": {
    "language_info": {
      "codemirror_mode": {
        "name": "python",
        "version": 3
      },
      "file_extension": ".py",
      "mimetype": "text/x-python",
      "name": "python",
      "nbconvert_exporter": "python",
      "pygments_lexer": "ipython3",
      "version": "3.8"
    },
    "kernelspec": {
      "name": "python",
      "display_name": "Python (Pyodide)",
      "language": "python"
    }
  },
  "nbformat_minor": 4,
  "nbformat": 4,
  "cells": [
    {
      "cell_type": "code",
      "source": "# Problem 1\n\ndef min_ones(num):\n    if num % 11 == 0:\n        quotient = int(num/11)\n        return get_count_0f_1s(str(function3(1, 1))) + min_ones(quotient)\n\n    array = []\n    for k in range(num + 1):\n        if k == 1:\n            array.append(1)\n        else:\n            array.append(0)\n\n    for i in range(2, num + 1):\n        array[i] = i\n        for l in range(1, int(i//2) + 1):\n            array[i] = min(array[i], function1(array[l], array[i - l]))\n            \n            if (function2(i//l, l)) == i:\n                array[i] = min(array[i], array[l] + array[i//l])\n\n    return array[num]\n\ndef get_count_0f_1s(quotient):\n    count = 0\n    for i in range(len(quotient)):\n        if quotient[i] == '1':\n            count += 1  \n    return count\n\ndef function3(a,b):\n    return int(str(a) + str(b))\n\ndef function2(a,b):\n    return a * b\n\ndef function1(a,b):\n    return a + b\n\nprint(min_ones(22))\nprint(min_ones(9))\nprint(min_ones(1))\n",
      "metadata": {
        "trusted": true
      },
      "execution_count": 65,
      "outputs": [
        {
          "name": "stdout",
          "text": "4\n6\n1\n",
          "output_type": "stream"
        }
      ]
    },
    {
      "cell_type": "code",
      "source": "# Problem 2\n\ndef helper_maximum_no_of_steps(x, y, matrix):\n    robot_moves = [(0,1), (0,-1), (1,0), (-1,0)]\n    steps = 0\n    for i, j in robot_moves:\n        row, col = x+i, y+j\n        if 0 <= row < len(matrix) and 0 <= col < len(matrix[0]) and  matrix[x][y] < matrix[row][col]:\n            steps = max(steps, helper_maximum_no_of_steps(row, col, matrix) + 1)\n    return steps\n\ndef maximum_no_of_steps(matrix): \n    max_steps = 0\n    for i in range(0, len(matrix)):\n        for j in range(0, len(matrix[0])):\n            max_steps = max(max_steps, helper_maximum_no_of_steps(i, j, matrix))\n    \n    return max_steps\n\n\nprint(maximum_no_of_steps([['d', 'b'], ['c', 'a']]))\nprint(maximum_no_of_steps([['t', 'o', 'y'], ['c', 'a', 't'], ['t', 'o' , 'p']]))",
      "metadata": {
        "trusted": true
      },
      "execution_count": 66,
      "outputs": [
        {
          "name": "stdout",
          "text": "2\n4\n",
          "output_type": "stream"
        }
      ]
    },
    {
      "cell_type": "code",
      "source": "#Problem 3\n\ndef count_max_cocounts(numbers):\n    rob1, rob2 = 0, 0\n\n    for num in numbers:\n        max_temp = max(num + rob1, rob2) \n        rob1 = rob2\n        rob2 = max_temp\n    return rob2\n\nprint(count_max_cocounts([2, 70, 9, 3, 1]))\nprint(count_max_cocounts([100, 2, 1, 4, 80]))",
      "metadata": {
        "trusted": true
      },
      "execution_count": 67,
      "outputs": [
        {
          "name": "stdout",
          "text": "73\n181\n",
          "output_type": "stream"
        }
      ]
    },
    {
      "cell_type": "code",
      "source": "# Problem 4\n\ndef subset_divisible(A, target):\n    result = []\n    columns = target + 1\n    rows = len(A) + 1\n    \n    matrix1 = ([['0' for i in range(columns)] for i in range(rows)])\n    matrix2 = ([['0' for i in range(columns)] for i in range(rows)])\n    \n    matrix1[0][0] = True\n    matrix2[0][0] = None\n    \n    for i in range(1, columns):\n        matrix1[0][i] = False\n        matrix2[0][i] = None\n       \n    \n    for i in range(1, rows):\n        for j in range(columns):\n            matrix1[i][j] = matrix1[i - 1][j]\n            matrix2[i][j] = None\n            if (j >= A[i - 1]) and (matrix1[i - 1][j - A[i - 1]] == True):\n                matrix1[i][j] = True\n                matrix2[i][j] = j - A[i - 1]\n    \n    if matrix1[rows-1][columns-1] == True:\n        result.append(display_subsets(rows - 1, columns - 1, matrix2, []))\n        for list1 in result:\n            if list1 != []:\n                return list1\n    else:\n        return []\n\ndef display_subsets(n, target, matrix2, result_list):\n    if target == 0:\n        return result_list\n    if matrix2[n][target] == None:\n        display_subsets(n - 1, target, matrix2, result_list)\n    else:\n        display_subsets(n - 1, matrix2[n][target], matrix2, result_list)\n        result_list.append(target - matrix2[n][target])\n    return result_list\n\n\nprint(subset_divisible([3, 1, 7, 5], 6))\nprint(subset_divisible([1, 6], 5))",
      "metadata": {
        "trusted": true
      },
      "execution_count": 68,
      "outputs": [
        {
          "name": "stdout",
          "text": "[1, 5]\n[]\n",
          "output_type": "stream"
        }
      ]
    },
    {
      "cell_type": "code",
      "source": "#Problem 5\n\ndef get_max_substring(string1, char1, char2):\n    c_char1, c_char2, pattern = 0, 0, 0\n \n    for char in string1:\n        if char == char1:\n            c_char1 += 1\n        elif char == char2:\n            pattern += c_char1\n            c_char2 += 1\n       \n    pattern += c_char1 if c_char1 > c_char2 else c_char2\n\n    if char1 == char2:\n        return c_char1*(c_char1+1)//2\n    \n    return pattern\n\nprint(get_max_substring(\"bcedecd\", \"b\", \"d\"))\nprint(get_max_substring(\"ababab\", \"a\", \"b\"))\nprint(get_max_substring(\"aaaaa\", \"a\", \"b\"))",
      "metadata": {
        "trusted": true
      },
      "execution_count": 69,
      "outputs": [
        {
          "name": "stdout",
          "text": "4\n9\n5\n",
          "output_type": "stream"
        }
      ]
    },
    {
      "cell_type": "code",
      "source": "# Problem 6\n\ndef count_number_of_passwords(digit_list):\n    password = []\n\n    if len(digit_list) == 0:\n        return [[]]\n\n    for psw in count_number_of_passwords(digit_list[1:]):\n        password += [psw, psw+[digit_list[0]]]\n    \n    result = [value for index, value in enumerate(password) if value not in password[:index]]\n    return result\n\n\nprint(len(count_number_of_passwords([1, 2, 3, 4]))-1)\nprint(len(count_number_of_passwords([9, 9, 9, 9]))-1)\nprint(len(count_number_of_passwords([1]))-1)\nprint(len(count_number_of_passwords([]))-1)\nprint(len(count_number_of_passwords([1, 2, 1, 3]))-1)\n",
      "metadata": {
        "trusted": true
      },
      "execution_count": 70,
      "outputs": [
        {
          "name": "stdout",
          "text": "15\n4\n1\n0\n13\n",
          "output_type": "stream"
        }
      ]
    },
    {
      "cell_type": "code",
      "source": "",
      "metadata": {},
      "execution_count": null,
      "outputs": []
    },
    {
      "cell_type": "code",
      "source": "",
      "metadata": {},
      "execution_count": null,
      "outputs": []
    }
  ]
}