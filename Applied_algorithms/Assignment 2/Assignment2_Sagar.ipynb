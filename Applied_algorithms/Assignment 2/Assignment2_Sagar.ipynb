{
  "cells": [
    {
      "cell_type": "code",
      "execution_count": 59,
      "metadata": {
        "trusted": true
      },
      "outputs": [
        {
          "data": {
            "text/plain": [
              "3"
            ]
          },
          "execution_count": 59,
          "metadata": {},
          "output_type": "execute_result"
        }
      ],
      "source": [
        "# Problem 1\n",
        "\n",
        "def get_max_cherries(input_cake):\n",
        "    cherry_count = []\n",
        "    for cuts in range(0,len(input_cake)):\n",
        "        for internalcuts in range(0,len(input_cake[cuts])):\n",
        "            if(input_cake[cuts][internalcuts] == \"#\"):\n",
        "                cherry_count.append(input_cake[cuts][internalcuts])\n",
        "                \n",
        "    max_cherries = len(cherry_count)//2\n",
        "\n",
        "    return max_cherries\n",
        "\n",
        "input_matrix = [['.','#','.'], ['#','.','.'], ['#','#','#'], ['#','.','.']]        \n",
        "get_max_cherries(input_matrix)"
      ]
    },
    {
      "cell_type": "code",
      "execution_count": 61,
      "metadata": {
        "trusted": true
      },
      "outputs": [
        {
          "data": {
            "text/plain": [
              "[0, 1, 3, 5, 7]"
            ]
          },
          "execution_count": 61,
          "metadata": {},
          "output_type": "execute_result"
        }
      ],
      "source": [
        "# Problem 2\n",
        "def to_set_spy_locations(heights):\n",
        "    result = []\n",
        "    initial_spy = heights[0]\n",
        "    if heights == sorted(heights):\n",
        "        for num in heights:\n",
        "            result.append(heights.index(num))\n",
        "    elif heights == sorted(heights, reverse = True):\n",
        "        result.append(heights.index(initial_spy))\n",
        "    else:\n",
        "        for spies in range(0, len(heights) - 1):\n",
        "            if spies == 0 and heights[spies] < heights[spies + 1]:\n",
        "                result.append(spies)\n",
        "                initial_spy = heights[spies + 1]\n",
        "            elif initial_spy > heights[spies + 1]:\n",
        "                result.append(spies)\n",
        "            else:\n",
        "                initial_spy = heights[spies + 1]\n",
        "                result.append(spies + 1)\n",
        "\n",
        "    return list(set(result))\n",
        "\n",
        "to_set_spy_locations([1, 4, 3, 7, 6, 9, 5, 11])"
      ]
    },
    {
      "cell_type": "code",
      "execution_count": 3,
      "metadata": {
        "trusted": true
      },
      "outputs": [
        {
          "name": "stdout",
          "output_type": "stream",
          "text": [
            "Walter\n",
            "Walter\n",
            "Walter\n"
          ]
        }
      ],
      "source": [
        "# Problem 3\n",
        "\n",
        "def find_the_winner(input_string,substring):\n",
        "    \n",
        "    if substring != \"\" and substring in input_string:\n",
        "        input_string = input_string.replace(substring,\"\")\n",
        "        \n",
        "        if(len(input_string)%2 != 0):\n",
        "            return(\"Veidt\")\n",
        "        elif(len(input_string)%2 == 0):\n",
        "            return(\"Walter\")\n",
        "\n",
        "find_the_winner(\"abklmnmhij\",\"klmn\")\n",
        "find_the_winner(\"Abcdefghij\",\"cdef\")\n",
        "find_the_winner(\"blaaks\",\"aa\")\n"
      ]
    },
    {
      "cell_type": "code",
      "execution_count": 2,
      "metadata": {
        "trusted": true
      },
      "outputs": [
        {
          "data": {
            "text/plain": [
              "''"
            ]
          },
          "execution_count": 2,
          "metadata": {},
          "output_type": "execute_result"
        }
      ],
      "source": [
        "# Problem 4\n",
        "\n",
        "def remove_substring(input_string):\n",
        "    substring = \"abc\"\n",
        "\n",
        "    if input_string != '':\n",
        "        if substring in input_string:\n",
        "            result_string = input_string.replace(substring, '')\n",
        "            return remove_substring(result_string)\n",
        "        else:\n",
        "            return input_string\n",
        "    else:\n",
        "        return \"\"\n",
        "\n",
        "\n",
        "remove_substring(\"aababccbc\")"
      ]
    },
    {
      "cell_type": "code",
      "execution_count": 67,
      "metadata": {
        "trusted": true
      },
      "outputs": [
        {
          "data": {
            "text/plain": [
              "[6, 8, 8]"
            ]
          },
          "execution_count": 67,
          "metadata": {},
          "output_type": "execute_result"
        }
      ],
      "source": [
        "# problem 5\n",
        "\n",
        "global operationStack\n",
        "\n",
        "def flip(input_string):\n",
        "    topElement = 0\n",
        "    topElement = operationStack.pop()\n",
        "    while (topElement != 0):\n",
        "        topElement = topElement - 1\n",
        "        operationStack.append(topElement)\n",
        "\n",
        "\n",
        "def get(input_string):\n",
        "    return len(operationStack)\n",
        "\n",
        "\n",
        "def check_flip_game(input_string, queries):\n",
        "    result_list = []\n",
        "    for i in queries:\n",
        "        if i == \"flip\":\n",
        "            input_string = flip(input_string)\n",
        "        elif (i == \"get\"):\n",
        "            result_list.append(get(input_string))\n",
        "\n",
        "    return result_list\n",
        "\n",
        "\n",
        "def operation(input_string, queries):\n",
        "    stack1 = []\n",
        "    stack2 = []\n",
        "\n",
        "    for i in range(len(input_string)):\n",
        "        if input_string[i] == '1':\n",
        "            stack1.append(i)\n",
        "    for j in range(len(stack1)):\n",
        "        stack2.append(stack1.pop())\n",
        "    return stack2\n",
        "\n",
        "\n",
        "input_string = \"000010101111\"\n",
        "queries = [\"get\", \"flip\", \"flip\", \"get\", \"flip\", \"flip\", \"flip\", \"get\"]\n",
        "operationStack = operation(input_string, queries)\n",
        "check_flip_game(input_string, queries)\n"
      ]
    },
    {
      "cell_type": "code",
      "execution_count": 65,
      "metadata": {
        "trusted": true
      },
      "outputs": [
        {
          "data": {
            "text/plain": [
              "14"
            ]
          },
          "execution_count": 65,
          "metadata": {},
          "output_type": "execute_result"
        }
      ],
      "source": [
        "# Problem 6\n",
        "\n",
        "def calculate_points (list):\n",
        "\n",
        "    result_list = []\n",
        "    addition = 0\n",
        "\n",
        "    for char in list:\n",
        "        if char.isdigit():\n",
        "            result_list.append(int(char))\n",
        "        elif \"-\" in char:\n",
        "            if float(char) < 0:\n",
        "                result_list.append(int(float(char)))\n",
        "        elif char == \"I\":\n",
        "            result_list.pop()\n",
        "        elif char == \"D\":\n",
        "            result_list.append(int(result_list[-1]) * 2)\n",
        "        elif char == \"+\":\n",
        "            operation = int(result_list[-2]) + int(result_list[-1])\n",
        "            result_list.append(operation)\n",
        "        elif char == \"-\":\n",
        "            operation = int(result_list[-2]) - int(result_list[-1])\n",
        "            result_list.append(operation)\n",
        "        elif char == \"*\":\n",
        "            operation = int(result_list[-2]) * int(result_list[-1])\n",
        "            result_list.append(operation)\n",
        "        elif char == \"/\":\n",
        "            operation = int(result_list[-2]) / int(result_list[-1])\n",
        "            result_list.append(int(operation))\n",
        "        elif char == \"%\":\n",
        "            operation = int(result_list[-2]) % int(result_list[-1])\n",
        "            result_list.append(int(operation))\n",
        "\n",
        "    for number in result_list:\n",
        "        addition = addition + number\n",
        "\n",
        "    return addition\n",
        "\n",
        "calculate_points([\"5\",\"-2\",\"4\",\"I\",\"D\",\"9\",\"+\",\"/\"])"
      ]
    },
    {
      "cell_type": "code",
      "execution_count": 66,
      "metadata": {
        "trusted": true
      },
      "outputs": [
        {
          "name": "stdout",
          "output_type": "stream",
          "text": [
            "10 20 30 \n",
            "10 100 20 30 \n",
            "100 20 30 \n",
            "350 20 30 \n",
            "1 2 3 4 \n",
            "5 6 7 8 9 \n",
            "1 2 3 4 5 6 7 8 9 \n"
          ]
        }
      ],
      "source": [
        "class Node:\n",
        "    def __init__(self, data):\n",
        "        self.data = data\n",
        "        self.next = None\n",
        "\n",
        "class LinkedList:\n",
        "    def __init__(self):\n",
        "        self.head = None\n",
        "\n",
        "    def create_linkedlist(self, new_element):\n",
        "        new_node = Node(new_element)\n",
        "        if(self.head == None):\n",
        "            self.head = new_node\n",
        "            return\n",
        "        else:\n",
        "            temp = self.head\n",
        "            while(temp.next != None):\n",
        "                temp = temp.next\n",
        "            temp.next = new_node\n",
        "\n",
        "\n",
        "    def push_at_specefic_position(self, newElement, position):\n",
        "        new_node = Node(newElement)\n",
        "        if(position < 1):\n",
        "            print(\"\\nposition should be >= 1.\")\n",
        "        elif (position == 1):\n",
        "            new_node.next = self.head\n",
        "            self.head = new_node\n",
        "        else:\n",
        "            temp = self.head\n",
        "            for i in range(1, position-1):\n",
        "                if(temp != None):\n",
        "                    temp = temp.next\n",
        "            if(temp != None):\n",
        "                new_node.next = temp.next\n",
        "                temp.next = new_node\n",
        "            else:\n",
        "                print(\"\\nThe previous node is null.\")\n",
        "\n",
        "    def view_linkedlist(self):\n",
        "        temp = self.head\n",
        "        if(temp != None):\n",
        "            while (temp != None):\n",
        "                print(temp.data, end=\" \")\n",
        "                temp = temp.next\n",
        "            print()\n",
        "        else:\n",
        "            print(\"The list is empty\")\n",
        "\n",
        "    def search(self, x):\n",
        "        current = self.head\n",
        "        while current != None:\n",
        "            if current.data == x:\n",
        "                # Data found\n",
        "                return True\n",
        "            current = current.next\n",
        "        return  False\n",
        "\n",
        "\n",
        "    def update(self, x, y):\n",
        "        current = self.head\n",
        "        while current != None:\n",
        "            if current.data == x:\n",
        "                current.data = y\n",
        "            current = current.next\n",
        "        return \"No data found\"\n",
        "\n",
        "    def pop_at_specefic_position(self, position):\n",
        "        if (position < 1):\n",
        "            return \"\\nposition should be greater than 1\"\n",
        "        elif (position == 1 and self.head != None):\n",
        "            nodeToDelete = self.head\n",
        "            self.head = self.head.next\n",
        "            nodeToDelete = None\n",
        "        else:\n",
        "            temp = self.head\n",
        "            for i in range(1, position - 1):\n",
        "                if (temp != None):\n",
        "                    temp = temp.next\n",
        "            if (temp != None and temp.next != None):\n",
        "                nodeToDelete = temp.next\n",
        "                temp.next = temp.next.next\n",
        "                nodeToDelete = None\n",
        "            else:\n",
        "                return \"The node is already empty\"\n",
        "\n",
        "def merge_sorted_linked_List(headA, headB):\n",
        "\n",
        "    initial_node = Node(0)\n",
        "    tail = initial_node\n",
        "\n",
        "    while True:\n",
        "        if headA is None:\n",
        "            tail.next = headB\n",
        "            break\n",
        "        if headB is None:\n",
        "            tail.next = headA\n",
        "            break\n",
        "\n",
        "        if headA.data <= headB.data:\n",
        "            tail.next = headA\n",
        "            headA = headA.next\n",
        "        else:\n",
        "            tail.next = headB\n",
        "            headB = headB.next\n",
        "\n",
        "        tail = tail.next\n",
        "\n",
        "    return initial_node.next\n",
        "\n",
        "linkedlist = LinkedList()\n",
        "linkedlist.create_linkedlist(10)\n",
        "linkedlist.create_linkedlist(20)\n",
        "linkedlist.create_linkedlist(30)\n",
        "linkedlist.view_linkedlist()\n",
        "linkedlist.push_at_specefic_position(100, 2)\n",
        "linkedlist.view_linkedlist()\n",
        "linkedlist.pop_at_specefic_position(1)\n",
        "linkedlist.view_linkedlist()\n",
        "linkedlist.search(101)\n",
        "linkedlist.update(100, 350)\n",
        "linkedlist.view_linkedlist()\n",
        "l1 = LinkedList()\n",
        "l2 = LinkedList()\n",
        "l1.create_linkedlist(1)\n",
        "l1.create_linkedlist(2)\n",
        "l1.create_linkedlist(3)\n",
        "l1.create_linkedlist(4)\n",
        "l1.view_linkedlist()\n",
        "l2.create_linkedlist(5)\n",
        "l2.create_linkedlist(6)\n",
        "l2.create_linkedlist(7)\n",
        "l2.create_linkedlist(8)\n",
        "l2.create_linkedlist(9)\n",
        "l2.view_linkedlist()\n",
        "l1.head = merge_sorted_linked_List(l1.head, l2.head)\n",
        "l1.view_linkedlist()"
      ]
    },
    {
      "cell_type": "code",
      "execution_count": 40,
      "metadata": {
        "trusted": true
      },
      "outputs": [
        {
          "data": {
            "text/plain": [
              "1"
            ]
          },
          "execution_count": 40,
          "metadata": {},
          "output_type": "execute_result"
        }
      ],
      "source": [
        "# Problem 8\n",
        "\n",
        "\n",
        "def job_order_execution(nums):\n",
        "    nest = []\n",
        "    tunnel = []\n",
        "    job = 0\n",
        "\n",
        "    while len(nums) != 0:\n",
        "        if nums[job] == 1 and nums[job] not in nest:\n",
        "            nest.append(nums[job])\n",
        "            nums.remove(nums[job])\n",
        "        else:\n",
        "            if (nums[job] - 1) not in nest:\n",
        "                if len(tunnel) != 0 and (tunnel[-1] - 1) in nest:\n",
        "                    nest.append(tunnel.pop())\n",
        "                else:\n",
        "                    tunnel.append(nums[job])\n",
        "                    nums.remove(nums[job])\n",
        "            else:\n",
        "                nest.append(nums[job])\n",
        "                nums.remove(nums[job])\n",
        "    else:\n",
        "        if len(tunnel) == 1:\n",
        "            nest.append(tunnel.pop())\n",
        "            return 1\n",
        "        else:\n",
        "            while len(tunnel) != 0:\n",
        "                if len(tunnel) == 1:\n",
        "                    nest.append(tunnel.pop())\n",
        "                elif tunnel[-1] < tunnel[-2]:\n",
        "                    nest.append(tunnel.pop())\n",
        "                else:\n",
        "                    return 0\n",
        "    return 1\n",
        "\n",
        "job_order_execution([7, 6, 5, 4, 3, 2, 1])"
      ]
    },
    {
      "cell_type": "code",
      "execution_count": null,
      "metadata": {
        "trusted": true
      },
      "outputs": [],
      "source": []
    },
    {
      "cell_type": "code",
      "execution_count": null,
      "metadata": {},
      "outputs": [],
      "source": []
    }
  ],
  "metadata": {
    "kernelspec": {
      "display_name": "Python 3.10.6 64-bit",
      "language": "python",
      "name": "python3"
    },
    "language_info": {
      "codemirror_mode": {
        "name": "python",
        "version": 3
      },
      "file_extension": ".py",
      "mimetype": "text/x-python",
      "name": "python",
      "nbconvert_exporter": "python",
      "pygments_lexer": "ipython3",
      "version": "3.10.6"
    },
    "vscode": {
      "interpreter": {
        "hash": "aee8b7b246df8f9039afb4144a1f6fd8d2ca17a180786b69acc140d282b71a49"
      }
    }
  },
  "nbformat": 4,
  "nbformat_minor": 4
}
